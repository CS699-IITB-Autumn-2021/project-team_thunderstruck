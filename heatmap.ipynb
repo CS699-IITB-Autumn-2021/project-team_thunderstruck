{
 "cells": [
  {
   "cell_type": "code",
   "execution_count": 64,
   "id": "4d36ea0d",
   "metadata": {},
   "outputs": [],
   "source": [
    "import json\n",
    "import numpy as np\n",
    "import pandas as pd"
   ]
  },
  {
   "cell_type": "code",
   "execution_count": 65,
   "id": "e6173543",
   "metadata": {},
   "outputs": [],
   "source": [
    "import plotly.express as px"
   ]
  },
  {
   "cell_type": "code",
   "execution_count": 66,
   "id": "96cac479",
   "metadata": {},
   "outputs": [],
   "source": [
    "campus_zones = json.load(open(\"iitb_map.geojson\", \"r\"))"
   ]
  },
  {
   "cell_type": "code",
   "execution_count": 67,
   "id": "1754c1d9",
   "metadata": {},
   "outputs": [],
   "source": [
    "name_code_map = {}\n",
    "for feature in campus_zones[\"features\"]:\n",
    "    feature[\"id\"] = feature[\"properties\"][\"area_code\"]\n",
    "    name_code_map[feature[\"properties\"][\"name\"]] = feature[\"id\"]"
   ]
  },
  {
   "cell_type": "code",
   "execution_count": 68,
   "id": "cb2f3e47",
   "metadata": {},
   "outputs": [],
   "source": [
    "df = pd.read_csv(\"campus_covid_data.csv\")\n",
    "df[\"id\"] = df[\"name\"].apply(lambda x: name_code_map[x])"
   ]
  },
  {
   "cell_type": "code",
   "execution_count": 69,
   "id": "3de0336a",
   "metadata": {},
   "outputs": [
    {
     "data": {
      "text/html": [
       "<div>\n",
       "<style scoped>\n",
       "    .dataframe tbody tr th:only-of-type {\n",
       "        vertical-align: middle;\n",
       "    }\n",
       "\n",
       "    .dataframe tbody tr th {\n",
       "        vertical-align: top;\n",
       "    }\n",
       "\n",
       "    .dataframe thead th {\n",
       "        text-align: right;\n",
       "    }\n",
       "</style>\n",
       "<table border=\"1\" class=\"dataframe\">\n",
       "  <thead>\n",
       "    <tr style=\"text-align: right;\">\n",
       "      <th></th>\n",
       "      <th>area_code</th>\n",
       "      <th>name</th>\n",
       "      <th>cases</th>\n",
       "      <th>id</th>\n",
       "    </tr>\n",
       "  </thead>\n",
       "  <tbody>\n",
       "    <tr>\n",
       "      <th>0</th>\n",
       "      <td>1</td>\n",
       "      <td>gymkhana</td>\n",
       "      <td>80</td>\n",
       "      <td>1</td>\n",
       "    </tr>\n",
       "    <tr>\n",
       "      <th>1</th>\n",
       "      <td>2</td>\n",
       "      <td>hospital</td>\n",
       "      <td>12</td>\n",
       "      <td>2</td>\n",
       "    </tr>\n",
       "    <tr>\n",
       "      <th>2</th>\n",
       "      <td>3</td>\n",
       "      <td>hostel10</td>\n",
       "      <td>2</td>\n",
       "      <td>3</td>\n",
       "    </tr>\n",
       "    <tr>\n",
       "      <th>3</th>\n",
       "      <td>4</td>\n",
       "      <td>central library</td>\n",
       "      <td>20</td>\n",
       "      <td>4</td>\n",
       "    </tr>\n",
       "    <tr>\n",
       "      <th>4</th>\n",
       "      <td>5</td>\n",
       "      <td>hostel12</td>\n",
       "      <td>13</td>\n",
       "      <td>5</td>\n",
       "    </tr>\n",
       "  </tbody>\n",
       "</table>\n",
       "</div>"
      ],
      "text/plain": [
       "   area_code             name  cases  id\n",
       "0          1         gymkhana     80   1\n",
       "1          2         hospital     12   2\n",
       "2          3         hostel10      2   3\n",
       "3          4  central library     20   4\n",
       "4          5         hostel12     13   5"
      ]
     },
     "execution_count": 69,
     "metadata": {},
     "output_type": "execute_result"
    }
   ],
   "source": [
    "#df.head()"
   ]
  },
  {
   "cell_type": "code",
   "execution_count": 70,
   "id": "d00c2959",
   "metadata": {},
   "outputs": [],
   "source": [
    "import chart_studio\n",
    "username= 'divyank_iitb'\n",
    "api_key= 'FMujtDDLttX4848mzQsv'\n",
    "\n",
    "chart_studio.tools.set_credentials_file(username=username,api_key=api_key)\n",
    "\n",
    "import chart_studio.plotly as py\n",
    "\n",
    "import chart_studio.tools as tls"
   ]
  },
  {
   "cell_type": "code",
   "execution_count": 71,
   "id": "fa18fdf2",
   "metadata": {},
   "outputs": [],
   "source": [
    "fig = px.choropleth_mapbox(\n",
    "    df,\n",
    "    locations=\"id\",\n",
    "    geojson=campus_zones,\n",
    "    color=\"cases\",\n",
    "    hover_name=\"name\",\n",
    "    hover_data=[\"cases\"],\n",
    "    title=\"IIT BOMBAY CAMPUS COVID CASES\",\n",
    "    mapbox_style=\"open-street-map\",\n",
    "    center={\"lat\": 19.132, \"lon\": 72.9133},\n",
    "    zoom=13.9,\n",
    "    opacity=0.5,\n",
    "    #color_continuous_scale=px.colors.diverging.BrBG,\n",
    "    #color_continuous_midpoint=5,\n",
    ")"
   ]
  },
  {
   "cell_type": "code",
   "execution_count": 73,
   "id": "5038ab6e",
   "metadata": {},
   "outputs": [
    {
     "data": {
      "text/plain": [
       "'https://plotly.com/~divyank_iitb/3/'"
      ]
     },
     "execution_count": 73,
     "metadata": {},
     "output_type": "execute_result"
    }
   ],
   "source": [
    "py.plot(fig, filename= 'project_heat_map',auto_open=False)"
   ]
  }
 ],
 "metadata": {
  "kernelspec": {
   "display_name": "Python 3 (ipykernel)",
   "language": "python",
   "name": "python3"
  },
  "language_info": {
   "codemirror_mode": {
    "name": "ipython",
    "version": 3
   },
   "file_extension": ".py",
   "mimetype": "text/x-python",
   "name": "python",
   "nbconvert_exporter": "python",
   "pygments_lexer": "ipython3",
   "version": "3.9.6"
  }
 },
 "nbformat": 4,
 "nbformat_minor": 5
}
