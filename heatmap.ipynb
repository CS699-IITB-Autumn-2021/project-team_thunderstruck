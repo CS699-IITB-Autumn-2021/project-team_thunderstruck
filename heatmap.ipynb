{
 "cells": [
  {
   "cell_type": "code",
   "execution_count": 10,
   "id": "4d36ea0d",
   "metadata": {},
   "outputs": [],
   "source": [
    "import json\n",
    "import numpy as np\n",
    "import pandas as pd"
   ]
  },
  {
   "cell_type": "code",
   "execution_count": 11,
   "id": "e6173543",
   "metadata": {},
   "outputs": [],
   "source": [
    "import plotly.express as px"
   ]
  },
  {
   "cell_type": "code",
   "execution_count": 25,
   "id": "96cac479",
   "metadata": {},
   "outputs": [],
   "source": [
    "campus_zones = json.load(open(\"iitb_map.geojson\", \"r\"))"
   ]
  },
  {
   "cell_type": "code",
   "execution_count": 26,
   "id": "1754c1d9",
   "metadata": {},
   "outputs": [],
   "source": [
    "name_code_map = {}\n",
    "for feature in campus_zones[\"features\"]:\n",
    "    feature[\"id\"] = feature[\"properties\"][\"area_code\"]\n",
    "    name_code_map[feature[\"properties\"][\"name\"]] = feature[\"id\"]"
   ]
  },
  {
   "cell_type": "code",
   "execution_count": 27,
   "id": "cb2f3e47",
   "metadata": {},
   "outputs": [],
   "source": [
    "df = pd.read_csv(\"campus_covid_data.csv\")\n",
    "df[\"id\"] = df[\"name\"].apply(lambda x: name_code_map[x])"
   ]
  },
  {
   "cell_type": "code",
   "execution_count": 28,
   "id": "3de0336a",
   "metadata": {},
   "outputs": [
    {
     "data": {
      "text/html": [
       "<div>\n",
       "<style scoped>\n",
       "    .dataframe tbody tr th:only-of-type {\n",
       "        vertical-align: middle;\n",
       "    }\n",
       "\n",
       "    .dataframe tbody tr th {\n",
       "        vertical-align: top;\n",
       "    }\n",
       "\n",
       "    .dataframe thead th {\n",
       "        text-align: right;\n",
       "    }\n",
       "</style>\n",
       "<table border=\"1\" class=\"dataframe\">\n",
       "  <thead>\n",
       "    <tr style=\"text-align: right;\">\n",
       "      <th></th>\n",
       "      <th>area_code</th>\n",
       "      <th>name</th>\n",
       "      <th>cases</th>\n",
       "      <th>id</th>\n",
       "    </tr>\n",
       "  </thead>\n",
       "  <tbody>\n",
       "    <tr>\n",
       "      <th>0</th>\n",
       "      <td>1</td>\n",
       "      <td>gymkhana</td>\n",
       "      <td>5</td>\n",
       "      <td>1</td>\n",
       "    </tr>\n",
       "    <tr>\n",
       "      <th>1</th>\n",
       "      <td>2</td>\n",
       "      <td>hospital</td>\n",
       "      <td>12</td>\n",
       "      <td>2</td>\n",
       "    </tr>\n",
       "    <tr>\n",
       "      <th>2</th>\n",
       "      <td>3</td>\n",
       "      <td>hostel10</td>\n",
       "      <td>2</td>\n",
       "      <td>3</td>\n",
       "    </tr>\n",
       "    <tr>\n",
       "      <th>3</th>\n",
       "      <td>4</td>\n",
       "      <td>central library</td>\n",
       "      <td>20</td>\n",
       "      <td>4</td>\n",
       "    </tr>\n",
       "    <tr>\n",
       "      <th>4</th>\n",
       "      <td>5</td>\n",
       "      <td>hostel12</td>\n",
       "      <td>13</td>\n",
       "      <td>5</td>\n",
       "    </tr>\n",
       "  </tbody>\n",
       "</table>\n",
       "</div>"
      ],
      "text/plain": [
       "   area_code             name  cases  id\n",
       "0          1         gymkhana      5   1\n",
       "1          2         hospital     12   2\n",
       "2          3         hostel10      2   3\n",
       "3          4  central library     20   4\n",
       "4          5         hostel12     13   5"
      ]
     },
     "execution_count": 28,
     "metadata": {},
     "output_type": "execute_result"
    }
   ],
   "source": [
    "df.head()"
   ]
  },
  {
   "cell_type": "code",
   "execution_count": 16,
   "id": "232c69db",
   "metadata": {},
   "outputs": [
    {
     "ename": "ValueError",
     "evalue": "Value of 'locations' is not the name of a column in 'data_frame'. Expected one of ['area_code', 'name', 'cases'] but received: id",
     "output_type": "error",
     "traceback": [
      "\u001b[1;31m---------------------------------------------------------------------------\u001b[0m",
      "\u001b[1;31mValueError\u001b[0m                                Traceback (most recent call last)",
      "\u001b[1;32m~\\AppData\\Local\\Temp/ipykernel_1488/367631763.py\u001b[0m in \u001b[0;36m<module>\u001b[1;34m\u001b[0m\n\u001b[1;32m----> 1\u001b[1;33m fig = px.choropleth(\n\u001b[0m\u001b[0;32m      2\u001b[0m     \u001b[0mdf\u001b[0m\u001b[1;33m,\u001b[0m\u001b[1;33m\u001b[0m\u001b[1;33m\u001b[0m\u001b[0m\n\u001b[0;32m      3\u001b[0m     \u001b[0mlocations\u001b[0m\u001b[1;33m=\u001b[0m\u001b[1;34m\"id\"\u001b[0m\u001b[1;33m,\u001b[0m\u001b[1;33m\u001b[0m\u001b[1;33m\u001b[0m\u001b[0m\n\u001b[0;32m      4\u001b[0m     \u001b[0mgeojson\u001b[0m\u001b[1;33m=\u001b[0m\u001b[0mcampus_zones\u001b[0m\u001b[1;33m,\u001b[0m\u001b[1;33m\u001b[0m\u001b[1;33m\u001b[0m\u001b[0m\n\u001b[0;32m      5\u001b[0m     \u001b[0mcolor\u001b[0m\u001b[1;33m=\u001b[0m\u001b[1;34m\"cases\"\u001b[0m\u001b[1;33m,\u001b[0m\u001b[1;33m\u001b[0m\u001b[1;33m\u001b[0m\u001b[0m\n",
      "\u001b[1;32m~\\AppData\\Roaming\\Python\\Python39\\site-packages\\plotly\\express\\_chart_types.py\u001b[0m in \u001b[0;36mchoropleth\u001b[1;34m(data_frame, lat, lon, locations, locationmode, geojson, featureidkey, color, facet_row, facet_col, facet_col_wrap, facet_row_spacing, facet_col_spacing, hover_name, hover_data, custom_data, animation_frame, animation_group, category_orders, labels, color_discrete_sequence, color_discrete_map, color_continuous_scale, range_color, color_continuous_midpoint, projection, scope, center, fitbounds, basemap_visible, title, template, width, height)\u001b[0m\n\u001b[0;32m   1071\u001b[0m     \u001b[0mcolored\u001b[0m \u001b[0mregion\u001b[0m \u001b[0mmark\u001b[0m \u001b[0mon\u001b[0m \u001b[0ma\u001b[0m \u001b[0mmap\u001b[0m\u001b[1;33m.\u001b[0m\u001b[1;33m\u001b[0m\u001b[1;33m\u001b[0m\u001b[0m\n\u001b[0;32m   1072\u001b[0m     \"\"\"\n\u001b[1;32m-> 1073\u001b[1;33m     return make_figure(\n\u001b[0m\u001b[0;32m   1074\u001b[0m         \u001b[0margs\u001b[0m\u001b[1;33m=\u001b[0m\u001b[0mlocals\u001b[0m\u001b[1;33m(\u001b[0m\u001b[1;33m)\u001b[0m\u001b[1;33m,\u001b[0m\u001b[1;33m\u001b[0m\u001b[1;33m\u001b[0m\u001b[0m\n\u001b[0;32m   1075\u001b[0m         \u001b[0mconstructor\u001b[0m\u001b[1;33m=\u001b[0m\u001b[0mgo\u001b[0m\u001b[1;33m.\u001b[0m\u001b[0mChoropleth\u001b[0m\u001b[1;33m,\u001b[0m\u001b[1;33m\u001b[0m\u001b[1;33m\u001b[0m\u001b[0m\n",
      "\u001b[1;32m~\\AppData\\Roaming\\Python\\Python39\\site-packages\\plotly\\express\\_core.py\u001b[0m in \u001b[0;36mmake_figure\u001b[1;34m(args, constructor, trace_patch, layout_patch)\u001b[0m\n\u001b[0;32m   1931\u001b[0m     \u001b[0mapply_default_cascade\u001b[0m\u001b[1;33m(\u001b[0m\u001b[0margs\u001b[0m\u001b[1;33m)\u001b[0m\u001b[1;33m\u001b[0m\u001b[1;33m\u001b[0m\u001b[0m\n\u001b[0;32m   1932\u001b[0m \u001b[1;33m\u001b[0m\u001b[0m\n\u001b[1;32m-> 1933\u001b[1;33m     \u001b[0margs\u001b[0m \u001b[1;33m=\u001b[0m \u001b[0mbuild_dataframe\u001b[0m\u001b[1;33m(\u001b[0m\u001b[0margs\u001b[0m\u001b[1;33m,\u001b[0m \u001b[0mconstructor\u001b[0m\u001b[1;33m)\u001b[0m\u001b[1;33m\u001b[0m\u001b[1;33m\u001b[0m\u001b[0m\n\u001b[0m\u001b[0;32m   1934\u001b[0m     \u001b[1;32mif\u001b[0m \u001b[0mconstructor\u001b[0m \u001b[1;32min\u001b[0m \u001b[1;33m[\u001b[0m\u001b[0mgo\u001b[0m\u001b[1;33m.\u001b[0m\u001b[0mTreemap\u001b[0m\u001b[1;33m,\u001b[0m \u001b[0mgo\u001b[0m\u001b[1;33m.\u001b[0m\u001b[0mSunburst\u001b[0m\u001b[1;33m,\u001b[0m \u001b[0mgo\u001b[0m\u001b[1;33m.\u001b[0m\u001b[0mIcicle\u001b[0m\u001b[1;33m]\u001b[0m \u001b[1;32mand\u001b[0m \u001b[0margs\u001b[0m\u001b[1;33m[\u001b[0m\u001b[1;34m\"path\"\u001b[0m\u001b[1;33m]\u001b[0m \u001b[1;32mis\u001b[0m \u001b[1;32mnot\u001b[0m \u001b[1;32mNone\u001b[0m\u001b[1;33m:\u001b[0m\u001b[1;33m\u001b[0m\u001b[1;33m\u001b[0m\u001b[0m\n\u001b[0;32m   1935\u001b[0m         \u001b[0margs\u001b[0m \u001b[1;33m=\u001b[0m \u001b[0mprocess_dataframe_hierarchy\u001b[0m\u001b[1;33m(\u001b[0m\u001b[0margs\u001b[0m\u001b[1;33m)\u001b[0m\u001b[1;33m\u001b[0m\u001b[1;33m\u001b[0m\u001b[0m\n",
      "\u001b[1;32m~\\AppData\\Roaming\\Python\\Python39\\site-packages\\plotly\\express\\_core.py\u001b[0m in \u001b[0;36mbuild_dataframe\u001b[1;34m(args, constructor)\u001b[0m\n\u001b[0;32m   1403\u001b[0m     \u001b[1;31m# now that things have been prepped, we do the systematic rewriting of `args`\u001b[0m\u001b[1;33m\u001b[0m\u001b[1;33m\u001b[0m\u001b[1;33m\u001b[0m\u001b[0m\n\u001b[0;32m   1404\u001b[0m \u001b[1;33m\u001b[0m\u001b[0m\n\u001b[1;32m-> 1405\u001b[1;33m     df_output, wide_id_vars = process_args_into_dataframe(\n\u001b[0m\u001b[0;32m   1406\u001b[0m         \u001b[0margs\u001b[0m\u001b[1;33m,\u001b[0m \u001b[0mwide_mode\u001b[0m\u001b[1;33m,\u001b[0m \u001b[0mvar_name\u001b[0m\u001b[1;33m,\u001b[0m \u001b[0mvalue_name\u001b[0m\u001b[1;33m\u001b[0m\u001b[1;33m\u001b[0m\u001b[0m\n\u001b[0;32m   1407\u001b[0m     )\n",
      "\u001b[1;32m~\\AppData\\Roaming\\Python\\Python39\\site-packages\\plotly\\express\\_core.py\u001b[0m in \u001b[0;36mprocess_args_into_dataframe\u001b[1;34m(args, wide_mode, var_name, value_name)\u001b[0m\n\u001b[0;32m   1205\u001b[0m                         \u001b[1;32mif\u001b[0m \u001b[0margument\u001b[0m \u001b[1;33m==\u001b[0m \u001b[1;34m\"index\"\u001b[0m\u001b[1;33m:\u001b[0m\u001b[1;33m\u001b[0m\u001b[1;33m\u001b[0m\u001b[0m\n\u001b[0;32m   1206\u001b[0m                             \u001b[0merr_msg\u001b[0m \u001b[1;33m+=\u001b[0m \u001b[1;34m\"\\n To use the index, pass it in directly as `df.index`.\"\u001b[0m\u001b[1;33m\u001b[0m\u001b[1;33m\u001b[0m\u001b[0m\n\u001b[1;32m-> 1207\u001b[1;33m                         \u001b[1;32mraise\u001b[0m \u001b[0mValueError\u001b[0m\u001b[1;33m(\u001b[0m\u001b[0merr_msg\u001b[0m\u001b[1;33m)\u001b[0m\u001b[1;33m\u001b[0m\u001b[1;33m\u001b[0m\u001b[0m\n\u001b[0m\u001b[0;32m   1208\u001b[0m                 \u001b[1;32melif\u001b[0m \u001b[0mlength\u001b[0m \u001b[1;32mand\u001b[0m \u001b[0mlen\u001b[0m\u001b[1;33m(\u001b[0m\u001b[0mdf_input\u001b[0m\u001b[1;33m[\u001b[0m\u001b[0margument\u001b[0m\u001b[1;33m]\u001b[0m\u001b[1;33m)\u001b[0m \u001b[1;33m!=\u001b[0m \u001b[0mlength\u001b[0m\u001b[1;33m:\u001b[0m\u001b[1;33m\u001b[0m\u001b[1;33m\u001b[0m\u001b[0m\n\u001b[0;32m   1209\u001b[0m                     raise ValueError(\n",
      "\u001b[1;31mValueError\u001b[0m: Value of 'locations' is not the name of a column in 'data_frame'. Expected one of ['area_code', 'name', 'cases'] but received: id"
     ]
    }
   ],
   "source": [
    "fig = px.choropleth(\n",
    "    df,\n",
    "    locations=\"id\",\n",
    "    geojson=campus_zones,\n",
    "    color=\"cases\",\n",
    "    hover_name=\"name\",\n",
    "    hover_data=[\"cases\"],\n",
    "    title=\"IIT BOMBAY CAMPUS COVID CASES\",\n",
    ")\n",
    "fig.update_geos(fitbounds=\"locations\", visible=False)\n",
    "fig.show()"
   ]
  },
  {
   "cell_type": "code",
   "execution_count": 31,
   "id": "7ae6f26b",
   "metadata": {},
   "outputs": [
    {
     "data": {
      "application/vnd.plotly.v1+json": {
       "config": {
        "plotlyServerURL": "https://plot.ly"
       },
       "data": [
        {
         "coloraxis": "coloraxis",
         "customdata": [
          [
           5
          ],
          [
           12
          ],
          [
           2
          ],
          [
           20
          ],
          [
           13
          ],
          [
           3
          ],
          [
           30
          ],
          [
           13
          ],
          [
           2
          ],
          [
           18
          ],
          [
           14
          ],
          [
           7
          ],
          [
           1
          ],
          [
           25
          ],
          [
           40
          ],
          [
           18
          ],
          [
           11
          ],
          [
           7
          ],
          [
           55
          ],
          [
           5
          ],
          [
           10
          ],
          [
           12
          ],
          [
           19
          ],
          [
           9
          ],
          [
           32
          ],
          [
           44
          ],
          [
           8
          ],
          [
           1
          ],
          [
           90
          ],
          [
           21
          ],
          [
           14
          ],
          [
           33
          ],
          [
           5
          ]
         ],
         "geojson": {
          "features": [
           {
            "geometry": {
             "coordinates": [
              [
               [
                72.91074514389038,
                19.136086599999516
               ],
               [
                72.91018724441528,
                19.134282384131495
               ],
               [
                72.91364192962646,
                19.1331065923952
               ],
               [
                72.91465044021606,
                19.135964968088775
               ],
               [
                72.91074514389038,
                19.136086599999516
               ]
              ]
             ],
             "type": "Polygon"
            },
            "id": 1,
            "properties": {
             "area_code": 1,
             "name": "gymkhana"
            },
            "type": "Feature"
           },
           {
            "geometry": {
             "coordinates": [
              [
               [
                72.91382431983948,
                19.13108441375334
               ],
               [
                72.91419446468353,
                19.13044582588064
               ],
               [
                72.91478991508484,
                19.130455962215358
               ],
               [
                72.91474699974059,
                19.13108441375334
               ],
               [
                72.91382431983948,
                19.13108441375334
               ]
              ]
             ],
             "type": "Polygon"
            },
            "id": 2,
            "properties": {
             "area_code": 2,
             "name": "hospital"
            },
            "type": "Feature"
           },
           {
            "geometry": {
             "coordinates": [
              [
               [
                72.91520297527313,
                19.129599439736836
               ],
               [
                72.91520297527313,
                19.128210748884424
               ],
               [
                72.91638314723969,
                19.128296908875534
               ],
               [
                72.91627585887909,
                19.1296095761235
               ],
               [
                72.91520297527313,
                19.129599439736836
               ]
              ]
             ],
             "type": "Polygon"
            },
            "id": 3,
            "properties": {
             "area_code": 3,
             "name": "hostel10"
            },
            "type": "Feature"
           },
           {
            "geometry": {
             "coordinates": [
              [
               [
                72.91473627090454,
                19.134297588280162
               ],
               [
                72.91478455066681,
                19.13362353634492
               ],
               [
                72.9155570268631,
                19.133694489309757
               ],
               [
                72.91551411151886,
                19.13432292852482
               ],
               [
                72.91473627090454,
                19.134297588280162
               ]
              ]
             ],
             "type": "Polygon"
            },
            "id": 4,
            "properties": {
             "area_code": 4,
             "name": "central library"
            },
            "type": "Feature"
           },
           {
            "geometry": {
             "coordinates": [
              [
               [
                72.90393769741058,
                19.135518983649504
               ],
               [
                72.9046618938446,
                19.13500711366077
               ],
               [
                72.90491938591003,
                19.13508820208159
               ],
               [
                72.90504276752472,
                19.1352301067222
               ],
               [
                72.90549337863922,
                19.135392283305013
               ],
               [
                72.90549337863922,
                19.13616768789024
               ],
               [
                72.90430784225464,
                19.135899084099716
               ],
               [
                72.90393769741058,
                19.135518983649504
               ]
              ]
             ],
             "type": "Polygon"
            },
            "id": 5,
            "properties": {
             "area_code": 5,
             "name": "hostel12"
            },
            "type": "Feature"
           },
           {
            "geometry": {
             "coordinates": [
              [
               [
                72.9057240486145,
                19.13508820208159
               ],
               [
                72.90571331977844,
                19.134865208828536
               ],
               [
                72.90556311607361,
                19.134621943118134
               ],
               [
                72.90553092956543,
                19.134540854468362
               ],
               [
                72.90609955787659,
                19.134069525903254
               ],
               [
                72.90650188922882,
                19.134566194675692
               ],
               [
                72.90650725364684,
                19.135128746277072
               ],
               [
                72.9057240486145,
                19.13508820208159
               ]
              ]
             ],
             "type": "Polygon"
            },
            "id": 6,
            "properties": {
             "area_code": 6,
             "name": "hostel14"
            },
            "type": "Feature"
           },
           {
            "geometry": {
             "coordinates": [
              [
               [
                72.90476381778717,
                19.134784120298214
               ],
               [
                72.90429711341858,
                19.134211431419242
               ],
               [
                72.90443122386932,
                19.133851599337724
               ],
               [
                72.90506958961487,
                19.133506970693638
               ],
               [
                72.9053807258606,
                19.13425704388062
               ],
               [
                72.90497839450836,
                19.134474969911118
               ],
               [
                72.90489792823792,
                19.134743576018128
               ],
               [
                72.90476381778717,
                19.134784120298214
               ]
              ]
             ],
             "type": "Polygon"
            },
            "id": 7,
            "properties": {
             "area_code": 7,
             "name": "hostel13"
            },
            "type": "Feature"
           },
           {
            "geometry": {
             "coordinates": [
              [
               [
                72.90625512599945,
                19.13571156798696
               ],
               [
                72.90753185749054,
                19.135270650882838
               ],
               [
                72.90772497653961,
                19.135802792068414
               ],
               [
                72.90741384029387,
                19.13590415209979
               ],
               [
                72.90749430656432,
                19.1363349315391
               ],
               [
                72.90677547454834,
                19.136492039054925
               ],
               [
                72.9066413640976,
                19.136056192030235
               ],
               [
                72.90637850761414,
                19.136127143949853
               ],
               [
                72.90625512599945,
                19.13571156798696
               ]
              ]
             ],
             "type": "Polygon"
            },
            "id": 8,
            "properties": {
             "area_code": 8,
             "name": "hostel6"
            },
            "type": "Feature"
           },
           {
            "geometry": {
             "coordinates": [
              [
               [
                72.90761232376099,
                19.13495136534837
               ],
               [
                72.90737628936768,
                19.135027385769703
               ],
               [
                72.90724754333496,
                19.134662487428088
               ],
               [
                72.90757477283476,
                19.13450537817157
               ],
               [
                72.90754795074463,
                19.134023913390074
               ],
               [
                72.90789127349854,
                19.133664080899994
               ],
               [
                72.90817022323608,
                19.133795850635227
               ],
               [
                72.90834188461304,
                19.1345256503421
               ],
               [
                72.90761232376099,
                19.13495136534837
               ]
              ]
             ],
             "type": "Polygon"
            },
            "id": 9,
            "properties": {
             "area_code": 9,
             "name": "hostel7"
            },
            "type": "Feature"
           },
           {
            "geometry": {
             "coordinates": [
              [
               [
                72.90786981582642,
                19.13557473177029
               ],
               [
                72.90777862071991,
                19.1352301067222
               ],
               [
                72.9082989692688,
                19.13499190957744
               ],
               [
                72.90866911411285,
                19.134996977605365
               ],
               [
                72.9089105129242,
                19.135934560097088
               ],
               [
                72.90808439254761,
                19.136193027847934
               ],
               [
                72.90786981582642,
                19.13557473177029
               ]
              ]
             ],
             "type": "Polygon"
            },
            "id": 10,
            "properties": {
             "area_code": 10,
             "name": "hostel9"
            },
            "type": "Feature"
           },
           {
            "geometry": {
             "coordinates": [
              [
               [
                72.90896952152252,
                19.136228503782153
               ],
               [
                72.90897488594055,
                19.13615755190608
               ],
               [
                72.90951132774353,
                19.13601564806248
               ],
               [
                72.90968298912048,
                19.13710019577144
               ],
               [
                72.90913581848145,
                19.137176215203503
               ],
               [
                72.90896952152252,
                19.136228503782153
               ]
              ]
             ],
             "type": "Polygon"
            },
            "id": 11,
            "properties": {
             "area_code": 11,
             "name": "hostel18"
            },
            "type": "Feature"
           },
           {
            "geometry": {
             "coordinates": [
              [
               [
                72.90964543819427,
                19.136132211942943
               ],
               [
                72.90998339653015,
                19.135959900090544
               ],
               [
                72.91054666042328,
                19.136071396015573
               ],
               [
                72.91062712669373,
                19.137313050093017
               ],
               [
                72.90981709957123,
                19.137358661697665
               ],
               [
                72.90964543819427,
                19.136132211942943
               ]
              ]
             ],
             "type": "Polygon"
            },
            "id": 12,
            "properties": {
             "area_code": 12,
             "name": "hostel4"
            },
            "type": "Feature"
           },
           {
            "geometry": {
             "coordinates": [
              [
               [
                72.90944159030914,
                19.135747044024622
               ],
               [
                72.90904998779297,
                19.13480439243453
               ],
               [
                72.91000485420227,
                19.13446990186715
               ],
               [
                72.91041791439056,
                19.13545816749629
               ],
               [
                72.90944159030914,
                19.135747044024622
               ]
              ]
             ],
             "type": "Polygon"
            },
            "id": 13,
            "properties": {
             "area_code": 13,
             "name": "hostel5"
            },
            "type": "Feature"
           },
           {
            "geometry": {
             "coordinates": [
              [
               [
                72.91109919548035,
                19.13730798213617
               ],
               [
                72.91081488132477,
                19.13615755190608
               ],
               [
                72.91198432445526,
                19.136096735988037
               ],
               [
                72.91210770606993,
                19.137247166641853
               ],
               [
                72.91109919548035,
                19.13730798213617
               ]
              ]
             ],
             "type": "Polygon"
            },
            "id": 14,
            "properties": {
             "area_code": 14,
             "name": "hostel3"
            },
            "type": "Feature"
           },
           {
            "geometry": {
             "coordinates": [
              [
               [
                72.91230082511902,
                19.137536040040366
               ],
               [
                72.91217744350433,
                19.137530972090367
               ],
               [
                72.91209697723389,
                19.13653765088637
               ],
               [
                72.91245639324188,
                19.136096735988037
               ],
               [
                72.91311621665955,
                19.136127143949853
               ],
               [
                72.91318595409393,
                19.137454952821628
               ],
               [
                72.91230082511902,
                19.137536040040366
               ]
              ]
             ],
             "type": "Polygon"
            },
            "id": 15,
            "properties": {
             "area_code": 15,
             "name": "hostel2"
            },
            "type": "Feature"
           },
           {
            "geometry": {
             "coordinates": [
              [
               [
                72.91349172592163,
                19.13718635112513
               ],
               [
                72.91336834430695,
                19.136056192030235
               ],
               [
                72.91446268558502,
                19.136056192030235
               ],
               [
                72.91439294815063,
                19.137272506433877
               ],
               [
                72.91349172592163,
                19.13718635112513
               ]
              ]
             ],
             "type": "Polygon"
            },
            "id": 16,
            "properties": {
             "area_code": 16,
             "name": "hostel1"
            },
            "type": "Feature"
           },
           {
            "geometry": {
             "coordinates": [
              [
               [
                72.90927529335022,
                19.124551441899612
               ],
               [
                72.90973126888274,
                19.1241611786158
               ],
               [
                72.91001558303833,
                19.124571715291765
               ],
               [
                72.90960252285004,
                19.124901157565642
               ],
               [
                72.90927529335022,
                19.124551441899612
               ]
              ]
             ],
             "type": "Polygon"
            },
            "id": 17,
            "properties": {
             "area_code": 17,
             "name": "devi temple"
            },
            "type": "Feature"
           },
           {
            "geometry": {
             "coordinates": [
              [
               [
                72.9123330116272,
                19.125195120886232
               ],
               [
                72.91175365447998,
                19.125195120886232
               ],
               [
                72.91100263595581,
                19.124728833996627
               ],
               [
                72.91178584098814,
                19.124232135645055
               ],
               [
                72.91252076625824,
                19.124374049612147
               ],
               [
                72.9123330116272,
                19.125195120886232
               ]
              ]
             ],
             "type": "Polygon"
            },
            "id": 18,
            "properties": {
             "area_code": 18,
             "name": "lakeside road"
            },
            "type": "Feature"
           },
           {
            "geometry": {
             "coordinates": [
              [
               [
                72.91603982448578,
                19.126142895616965
               ],
               [
                72.91587889194489,
                19.125565108460133
               ],
               [
                72.91635632514954,
                19.125174847570566
               ],
               [
                72.91664063930511,
                19.12505827595722
               ],
               [
                72.91684448719025,
                19.12546374208393
               ],
               [
                72.91662991046906,
                19.12591482198065
               ],
               [
                72.91603982448578,
                19.126142895616965
               ]
              ]
             ],
             "type": "Polygon"
            },
            "id": 19,
            "properties": {
             "area_code": 19,
             "name": "main gate"
            },
            "type": "Feature"
           },
           {
            "geometry": {
             "coordinates": [
              [
               [
                72.91468262672424,
                19.13248828476161
               ],
               [
                72.91330933570862,
                19.13184463419219
               ],
               [
                72.91380822658539,
                19.13117057224555
               ],
               [
                72.91503131389618,
                19.13157602337021
               ],
               [
                72.91468262672424,
                19.13248828476161
               ]
              ]
             ],
             "type": "Polygon"
            },
            "id": 20,
            "properties": {
             "area_code": 20,
             "name": "convocation hall"
            },
            "type": "Feature"
           },
           {
            "geometry": {
             "coordinates": [
              [
               [
                72.91282117366791,
                19.13325356682004
               ],
               [
                72.91241884231567,
                19.13265553213679
               ],
               [
                72.91300356388092,
                19.131885179183982
               ],
               [
                72.9141354560852,
                19.13229062855441
               ],
               [
                72.91428565979004,
                19.13274675790641
               ],
               [
                72.91333079338074,
                19.132827847437106
               ],
               [
                72.91282117366791,
                19.13325356682004
               ]
              ]
             ],
             "type": "Polygon"
            },
            "id": 21,
            "properties": {
             "area_code": 21,
             "name": "tennis court"
            },
            "type": "Feature"
           },
           {
            "geometry": {
             "coordinates": [
              [
               [
                72.91728973388672,
                19.12952848501279
               ],
               [
                72.9177725315094,
                19.12844895580905
               ],
               [
                72.91799783706665,
                19.128555388579233
               ],
               [
                72.91851818561554,
                19.12843375112199
               ],
               [
                72.9187273979187,
                19.128378000590825
               ],
               [
                72.91899561882018,
                19.128464160494698
               ],
               [
                72.91907608509062,
                19.12866688950303
               ],
               [
                72.91895806789398,
                19.129574098767456
               ],
               [
                72.91728973388672,
                19.12952848501279
               ]
              ]
             ],
             "type": "Polygon"
            },
            "id": 22,
            "properties": {
             "area_code": 22,
             "name": "kendriya vidyalaya"
            },
            "type": "Feature"
           },
           {
            "geometry": {
             "coordinates": [
              [
               [
                72.9146021604538,
                19.133506970693638
               ],
               [
                72.91535317897797,
                19.132037222814542
               ],
               [
                72.91586816310883,
                19.132579510623614
               ],
               [
                72.91576087474823,
                19.133562719493636
               ],
               [
                72.9146021604538,
                19.133506970693638
               ]
              ]
             ],
             "type": "Polygon"
            },
            "id": 23,
            "properties": {
             "area_code": 23,
             "name": "main building"
            },
            "type": "Feature"
           },
           {
            "geometry": {
             "coordinates": [
              [
               [
                72.91562676429749,
                19.133836395148002
               ],
               [
                72.91566967964172,
                19.133603264063648
               ],
               [
                72.91689276695251,
                19.13363367248462
               ],
               [
                72.91719317436218,
                19.130045440161535
               ],
               [
                72.91740775108337,
                19.13010625830795
               ],
               [
                72.91734337806702,
                19.133593127922076
               ],
               [
                72.91860938072205,
                19.133603264063648
               ],
               [
                72.91854500770569,
                19.13407966201559
               ],
               [
                72.91562676429749,
                19.133836395148002
               ]
              ]
             ],
             "type": "Polygon"
            },
            "id": 24,
            "properties": {
             "area_code": 24,
             "name": "infinity corridoor"
            },
            "type": "Feature"
           },
           {
            "geometry": {
             "coordinates": [
              [
               [
                72.91850209236145,
                19.132042290933136
               ],
               [
                72.9181158542633,
                19.131809157316223
               ],
               [
                72.91803002357481,
                19.131332752814856
               ],
               [
                72.91820168495178,
                19.130988118914736
               ],
               [
                72.91836261749268,
                19.130704302221755
               ],
               [
                72.91865229606628,
                19.130694165902277
               ],
               [
                72.91896343231201,
                19.130765120125595
               ],
               [
                72.91913509368896,
                19.131190844825415
               ],
               [
                72.91911363601685,
                19.131525342034056
               ],
               [
                72.91894197463989,
                19.13176861230577
               ],
               [
                72.91879177093506,
                19.131971337258474
               ],
               [
                72.91850209236145,
                19.132042290933136
               ]
              ]
             ],
             "type": "Polygon"
            },
            "id": 25,
            "properties": {
             "area_code": 25,
             "name": "aerospace department"
            },
            "type": "Feature"
           },
           {
            "geometry": {
             "coordinates": [
              [
               [
                72.9167640209198,
                19.133522174913676
               ],
               [
                72.91640996932983,
                19.133582991779882
               ],
               [
                72.91595935821533,
                19.133522174913676
               ],
               [
                72.9159164428711,
                19.133076183877172
               ],
               [
                72.91595935821533,
                19.13273155361497
               ],
               [
                72.91640996932983,
                19.132761962196447
               ],
               [
                72.91673183441162,
                19.132873460280628
               ],
               [
                72.9168176651001,
                19.13318768174921
               ],
               [
                72.9167640209198,
                19.133522174913676
               ]
              ]
             ],
             "type": "Polygon"
            },
            "id": 26,
            "properties": {
             "area_code": 26,
             "name": "mech"
            },
            "type": "Feature"
           },
           {
            "geometry": {
             "coordinates": [
              [
               [
                72.91607737541199,
                19.137039380200584
               ],
               [
                72.91557312011719,
                19.136187959856702
               ],
               [
                72.91624903678894,
                19.135660887919936
               ],
               [
                72.9168713092804,
                19.136228503782153
               ],
               [
                72.9166567325592,
                19.136725166061005
               ],
               [
                72.91607737541199,
                19.137039380200584
               ]
              ]
             ],
             "type": "Polygon"
            },
            "id": 27,
            "properties": {
             "area_code": 27,
             "name": "csre building"
            },
            "type": "Feature"
           },
           {
            "geometry": {
             "coordinates": [
              [
               [
                72.91715025901794,
                19.138275959071702
               ],
               [
                72.91702151298522,
                19.137819844992347
               ],
               [
                72.9177188873291,
                19.137242098682986
               ],
               [
                72.91839480400085,
                19.13759685542829
               ],
               [
                72.91834115982056,
                19.13832663833608
               ],
               [
                72.91770815849303,
                19.13861044192907
               ],
               [
                72.91715025901794,
                19.138275959071702
               ]
              ]
             ],
             "type": "Polygon"
            },
            "id": 28,
            "properties": {
             "area_code": 28,
             "name": "vidya nivas"
            },
            "type": "Feature"
           },
           {
            "geometry": {
             "coordinates": [
              [
               [
                72.91828751564026,
                19.127906654438966
               ],
               [
                72.91669964790343,
                19.127987746345816
               ],
               [
                72.91618466377258,
                19.126781500123673
               ],
               [
                72.91650652885437,
                19.12645712988906
               ],
               [
                72.91707515716553,
                19.126234124983345
               ],
               [
                72.9177188873291,
                19.126558495655793
               ],
               [
                72.91820168495178,
                19.127085596640235
               ],
               [
                72.91828751564026,
                19.127906654438966
               ]
              ]
             ],
             "type": "Polygon"
            },
            "id": 29,
            "properties": {
             "area_code": 29,
             "name": "campus school"
            },
            "type": "Feature"
           },
           {
            "geometry": {
             "coordinates": [
              [
               [
                72.91500449180603,
                19.126649724792674
               ],
               [
                72.91467189788818,
                19.12668013449377
               ],
               [
                72.9142963886261,
                19.126467266468545
               ],
               [
                72.91403889656067,
                19.126234124983345
               ],
               [
                72.91410326957703,
                19.125980709952373
               ],
               [
                72.9141891002655,
                19.125514425279807
               ],
               [
                72.9143500328064,
                19.125433332158938
               ],
               [
                72.91471481323242,
                19.125271145797807
               ],
               [
                72.91487574577332,
                19.125321829052762
               ],
               [
                72.91521906852722,
                19.12585907059944
               ],
               [
                72.91521906852722,
                19.126142895616965
               ],
               [
                72.91518688201904,
                19.126396310399166
               ],
               [
                72.91500449180603,
                19.126649724792674
               ]
              ]
             ],
             "type": "Polygon"
            },
            "id": 30,
            "properties": {
             "area_code": 30,
             "name": "white house"
            },
            "type": "Feature"
           },
           {
            "geometry": {
             "coordinates": [
              [
               [
                72.91896343231201,
                19.140029452576155
               ],
               [
                72.91892051696777,
                19.140526103421127
               ],
               [
                72.91874885559082,
                19.140911260190602
               ],
               [
                72.91798710823059,
                19.141316687398163
               ],
               [
                72.91684985160828,
                19.140434881949382
               ],
               [
                72.91747212409973,
                19.13987741630451
               ],
               [
                72.91813731193542,
                19.139684836826078
               ],
               [
                72.91896343231201,
                19.140029452576155
               ]
              ]
             ],
             "type": "Polygon"
            },
            "id": 31,
            "properties": {
             "area_code": 31,
             "name": "sameer hill"
            },
            "type": "Feature"
           },
           {
            "geometry": {
             "coordinates": [
              [
               [
                72.91475236415863,
                19.138134057048713
               ],
               [
                72.91461825370789,
                19.138316502484436
               ],
               [
                72.91418373584747,
                19.138362113811866
               ],
               [
                72.91369557380676,
                19.138417860972737
               ],
               [
                72.91345417499542,
                19.1379718831588
               ],
               [
                72.91350245475769,
                19.137485360533326
               ],
               [
                72.91380286216736,
                19.137287710307223
               ],
               [
                72.91425347328186,
                19.137328253962636
               ],
               [
                72.91456460952757,
                19.13759685542829
               ],
               [
                72.91475236415863,
                19.138134057048713
               ]
              ]
             ],
             "type": "Polygon"
            },
            "id": 32,
            "properties": {
             "area_code": 32,
             "name": "hostel15"
            },
            "type": "Feature"
           },
           {
            "geometry": {
             "coordinates": [
              [
               [
                72.91340053081512,
                19.13804790218953
               ],
               [
                72.9134863615036,
                19.138240483577377
               ],
               [
                72.91334688663483,
                19.138524287318482
               ],
               [
                72.91270315647125,
                19.138417860972737
               ],
               [
                72.91235983371735,
                19.13803776632079
               ],
               [
                72.9125314950943,
                19.13758671953185
               ],
               [
                72.913379073143,
                19.13749042848474
               ],
               [
                72.91340053081512,
                19.13804790218953
               ]
              ]
             ],
             "type": "Polygon"
            },
            "id": 33,
            "properties": {
             "area_code": 33,
             "name": "hostel16"
            },
            "type": "Feature"
           }
          ],
          "type": "FeatureCollection"
         },
         "hovertemplate": "<b>%{hovertext}</b><br><br>id=%{location}<br>cases=%{z}<extra></extra>",
         "hovertext": [
          "gymkhana",
          "hospital",
          "hostel10",
          "central library",
          "hostel12",
          "hostel14",
          "hostel13",
          "hostel6",
          "hostel7",
          "hostel9",
          "hostel18",
          "hostel4",
          "hostel5",
          "hostel3",
          "hostel2",
          "hostel1",
          "devi temple",
          "lakeside road",
          "main gate",
          "convocation hall",
          "tennis court",
          "kendriya vidyalaya",
          "main building",
          "infinity corridoor",
          "aerospace department",
          "mech",
          "csre building",
          "vidya nivas",
          "campus school",
          "white house",
          "sameer hill",
          "hostel15",
          "hostel16"
         ],
         "locations": [
          1,
          2,
          3,
          4,
          5,
          6,
          7,
          8,
          9,
          10,
          11,
          12,
          13,
          14,
          15,
          16,
          17,
          18,
          19,
          20,
          21,
          22,
          23,
          24,
          25,
          26,
          27,
          28,
          29,
          30,
          31,
          32,
          33
         ],
         "marker": {
          "opacity": 0.5
         },
         "name": "",
         "subplot": "mapbox",
         "type": "choroplethmapbox",
         "z": [
          5,
          12,
          2,
          20,
          13,
          3,
          30,
          13,
          2,
          18,
          14,
          7,
          1,
          25,
          40,
          18,
          11,
          7,
          55,
          5,
          10,
          12,
          19,
          9,
          32,
          44,
          8,
          1,
          90,
          21,
          14,
          33,
          5
         ]
        }
       ],
       "layout": {
        "coloraxis": {
         "colorbar": {
          "title": {
           "text": "cases"
          }
         },
         "colorscale": [
          [
           0,
           "#0d0887"
          ],
          [
           0.1111111111111111,
           "#46039f"
          ],
          [
           0.2222222222222222,
           "#7201a8"
          ],
          [
           0.3333333333333333,
           "#9c179e"
          ],
          [
           0.4444444444444444,
           "#bd3786"
          ],
          [
           0.5555555555555556,
           "#d8576b"
          ],
          [
           0.6666666666666666,
           "#ed7953"
          ],
          [
           0.7777777777777778,
           "#fb9f3a"
          ],
          [
           0.8888888888888888,
           "#fdca26"
          ],
          [
           1,
           "#f0f921"
          ]
         ]
        },
        "legend": {
         "tracegroupgap": 0
        },
        "mapbox": {
         "center": {
          "lat": 19.132,
          "lon": 72.9133
         },
         "domain": {
          "x": [
           0,
           1
          ],
          "y": [
           0,
           1
          ]
         },
         "style": "open-street-map",
         "zoom": 13.8
        },
        "template": {
         "data": {
          "bar": [
           {
            "error_x": {
             "color": "#2a3f5f"
            },
            "error_y": {
             "color": "#2a3f5f"
            },
            "marker": {
             "line": {
              "color": "#E5ECF6",
              "width": 0.5
             },
             "pattern": {
              "fillmode": "overlay",
              "size": 10,
              "solidity": 0.2
             }
            },
            "type": "bar"
           }
          ],
          "barpolar": [
           {
            "marker": {
             "line": {
              "color": "#E5ECF6",
              "width": 0.5
             },
             "pattern": {
              "fillmode": "overlay",
              "size": 10,
              "solidity": 0.2
             }
            },
            "type": "barpolar"
           }
          ],
          "carpet": [
           {
            "aaxis": {
             "endlinecolor": "#2a3f5f",
             "gridcolor": "white",
             "linecolor": "white",
             "minorgridcolor": "white",
             "startlinecolor": "#2a3f5f"
            },
            "baxis": {
             "endlinecolor": "#2a3f5f",
             "gridcolor": "white",
             "linecolor": "white",
             "minorgridcolor": "white",
             "startlinecolor": "#2a3f5f"
            },
            "type": "carpet"
           }
          ],
          "choropleth": [
           {
            "colorbar": {
             "outlinewidth": 0,
             "ticks": ""
            },
            "type": "choropleth"
           }
          ],
          "contour": [
           {
            "colorbar": {
             "outlinewidth": 0,
             "ticks": ""
            },
            "colorscale": [
             [
              0,
              "#0d0887"
             ],
             [
              0.1111111111111111,
              "#46039f"
             ],
             [
              0.2222222222222222,
              "#7201a8"
             ],
             [
              0.3333333333333333,
              "#9c179e"
             ],
             [
              0.4444444444444444,
              "#bd3786"
             ],
             [
              0.5555555555555556,
              "#d8576b"
             ],
             [
              0.6666666666666666,
              "#ed7953"
             ],
             [
              0.7777777777777778,
              "#fb9f3a"
             ],
             [
              0.8888888888888888,
              "#fdca26"
             ],
             [
              1,
              "#f0f921"
             ]
            ],
            "type": "contour"
           }
          ],
          "contourcarpet": [
           {
            "colorbar": {
             "outlinewidth": 0,
             "ticks": ""
            },
            "type": "contourcarpet"
           }
          ],
          "heatmap": [
           {
            "colorbar": {
             "outlinewidth": 0,
             "ticks": ""
            },
            "colorscale": [
             [
              0,
              "#0d0887"
             ],
             [
              0.1111111111111111,
              "#46039f"
             ],
             [
              0.2222222222222222,
              "#7201a8"
             ],
             [
              0.3333333333333333,
              "#9c179e"
             ],
             [
              0.4444444444444444,
              "#bd3786"
             ],
             [
              0.5555555555555556,
              "#d8576b"
             ],
             [
              0.6666666666666666,
              "#ed7953"
             ],
             [
              0.7777777777777778,
              "#fb9f3a"
             ],
             [
              0.8888888888888888,
              "#fdca26"
             ],
             [
              1,
              "#f0f921"
             ]
            ],
            "type": "heatmap"
           }
          ],
          "heatmapgl": [
           {
            "colorbar": {
             "outlinewidth": 0,
             "ticks": ""
            },
            "colorscale": [
             [
              0,
              "#0d0887"
             ],
             [
              0.1111111111111111,
              "#46039f"
             ],
             [
              0.2222222222222222,
              "#7201a8"
             ],
             [
              0.3333333333333333,
              "#9c179e"
             ],
             [
              0.4444444444444444,
              "#bd3786"
             ],
             [
              0.5555555555555556,
              "#d8576b"
             ],
             [
              0.6666666666666666,
              "#ed7953"
             ],
             [
              0.7777777777777778,
              "#fb9f3a"
             ],
             [
              0.8888888888888888,
              "#fdca26"
             ],
             [
              1,
              "#f0f921"
             ]
            ],
            "type": "heatmapgl"
           }
          ],
          "histogram": [
           {
            "marker": {
             "pattern": {
              "fillmode": "overlay",
              "size": 10,
              "solidity": 0.2
             }
            },
            "type": "histogram"
           }
          ],
          "histogram2d": [
           {
            "colorbar": {
             "outlinewidth": 0,
             "ticks": ""
            },
            "colorscale": [
             [
              0,
              "#0d0887"
             ],
             [
              0.1111111111111111,
              "#46039f"
             ],
             [
              0.2222222222222222,
              "#7201a8"
             ],
             [
              0.3333333333333333,
              "#9c179e"
             ],
             [
              0.4444444444444444,
              "#bd3786"
             ],
             [
              0.5555555555555556,
              "#d8576b"
             ],
             [
              0.6666666666666666,
              "#ed7953"
             ],
             [
              0.7777777777777778,
              "#fb9f3a"
             ],
             [
              0.8888888888888888,
              "#fdca26"
             ],
             [
              1,
              "#f0f921"
             ]
            ],
            "type": "histogram2d"
           }
          ],
          "histogram2dcontour": [
           {
            "colorbar": {
             "outlinewidth": 0,
             "ticks": ""
            },
            "colorscale": [
             [
              0,
              "#0d0887"
             ],
             [
              0.1111111111111111,
              "#46039f"
             ],
             [
              0.2222222222222222,
              "#7201a8"
             ],
             [
              0.3333333333333333,
              "#9c179e"
             ],
             [
              0.4444444444444444,
              "#bd3786"
             ],
             [
              0.5555555555555556,
              "#d8576b"
             ],
             [
              0.6666666666666666,
              "#ed7953"
             ],
             [
              0.7777777777777778,
              "#fb9f3a"
             ],
             [
              0.8888888888888888,
              "#fdca26"
             ],
             [
              1,
              "#f0f921"
             ]
            ],
            "type": "histogram2dcontour"
           }
          ],
          "mesh3d": [
           {
            "colorbar": {
             "outlinewidth": 0,
             "ticks": ""
            },
            "type": "mesh3d"
           }
          ],
          "parcoords": [
           {
            "line": {
             "colorbar": {
              "outlinewidth": 0,
              "ticks": ""
             }
            },
            "type": "parcoords"
           }
          ],
          "pie": [
           {
            "automargin": true,
            "type": "pie"
           }
          ],
          "scatter": [
           {
            "marker": {
             "colorbar": {
              "outlinewidth": 0,
              "ticks": ""
             }
            },
            "type": "scatter"
           }
          ],
          "scatter3d": [
           {
            "line": {
             "colorbar": {
              "outlinewidth": 0,
              "ticks": ""
             }
            },
            "marker": {
             "colorbar": {
              "outlinewidth": 0,
              "ticks": ""
             }
            },
            "type": "scatter3d"
           }
          ],
          "scattercarpet": [
           {
            "marker": {
             "colorbar": {
              "outlinewidth": 0,
              "ticks": ""
             }
            },
            "type": "scattercarpet"
           }
          ],
          "scattergeo": [
           {
            "marker": {
             "colorbar": {
              "outlinewidth": 0,
              "ticks": ""
             }
            },
            "type": "scattergeo"
           }
          ],
          "scattergl": [
           {
            "marker": {
             "colorbar": {
              "outlinewidth": 0,
              "ticks": ""
             }
            },
            "type": "scattergl"
           }
          ],
          "scattermapbox": [
           {
            "marker": {
             "colorbar": {
              "outlinewidth": 0,
              "ticks": ""
             }
            },
            "type": "scattermapbox"
           }
          ],
          "scatterpolar": [
           {
            "marker": {
             "colorbar": {
              "outlinewidth": 0,
              "ticks": ""
             }
            },
            "type": "scatterpolar"
           }
          ],
          "scatterpolargl": [
           {
            "marker": {
             "colorbar": {
              "outlinewidth": 0,
              "ticks": ""
             }
            },
            "type": "scatterpolargl"
           }
          ],
          "scatterternary": [
           {
            "marker": {
             "colorbar": {
              "outlinewidth": 0,
              "ticks": ""
             }
            },
            "type": "scatterternary"
           }
          ],
          "surface": [
           {
            "colorbar": {
             "outlinewidth": 0,
             "ticks": ""
            },
            "colorscale": [
             [
              0,
              "#0d0887"
             ],
             [
              0.1111111111111111,
              "#46039f"
             ],
             [
              0.2222222222222222,
              "#7201a8"
             ],
             [
              0.3333333333333333,
              "#9c179e"
             ],
             [
              0.4444444444444444,
              "#bd3786"
             ],
             [
              0.5555555555555556,
              "#d8576b"
             ],
             [
              0.6666666666666666,
              "#ed7953"
             ],
             [
              0.7777777777777778,
              "#fb9f3a"
             ],
             [
              0.8888888888888888,
              "#fdca26"
             ],
             [
              1,
              "#f0f921"
             ]
            ],
            "type": "surface"
           }
          ],
          "table": [
           {
            "cells": {
             "fill": {
              "color": "#EBF0F8"
             },
             "line": {
              "color": "white"
             }
            },
            "header": {
             "fill": {
              "color": "#C8D4E3"
             },
             "line": {
              "color": "white"
             }
            },
            "type": "table"
           }
          ]
         },
         "layout": {
          "annotationdefaults": {
           "arrowcolor": "#2a3f5f",
           "arrowhead": 0,
           "arrowwidth": 1
          },
          "autotypenumbers": "strict",
          "coloraxis": {
           "colorbar": {
            "outlinewidth": 0,
            "ticks": ""
           }
          },
          "colorscale": {
           "diverging": [
            [
             0,
             "#8e0152"
            ],
            [
             0.1,
             "#c51b7d"
            ],
            [
             0.2,
             "#de77ae"
            ],
            [
             0.3,
             "#f1b6da"
            ],
            [
             0.4,
             "#fde0ef"
            ],
            [
             0.5,
             "#f7f7f7"
            ],
            [
             0.6,
             "#e6f5d0"
            ],
            [
             0.7,
             "#b8e186"
            ],
            [
             0.8,
             "#7fbc41"
            ],
            [
             0.9,
             "#4d9221"
            ],
            [
             1,
             "#276419"
            ]
           ],
           "sequential": [
            [
             0,
             "#0d0887"
            ],
            [
             0.1111111111111111,
             "#46039f"
            ],
            [
             0.2222222222222222,
             "#7201a8"
            ],
            [
             0.3333333333333333,
             "#9c179e"
            ],
            [
             0.4444444444444444,
             "#bd3786"
            ],
            [
             0.5555555555555556,
             "#d8576b"
            ],
            [
             0.6666666666666666,
             "#ed7953"
            ],
            [
             0.7777777777777778,
             "#fb9f3a"
            ],
            [
             0.8888888888888888,
             "#fdca26"
            ],
            [
             1,
             "#f0f921"
            ]
           ],
           "sequentialminus": [
            [
             0,
             "#0d0887"
            ],
            [
             0.1111111111111111,
             "#46039f"
            ],
            [
             0.2222222222222222,
             "#7201a8"
            ],
            [
             0.3333333333333333,
             "#9c179e"
            ],
            [
             0.4444444444444444,
             "#bd3786"
            ],
            [
             0.5555555555555556,
             "#d8576b"
            ],
            [
             0.6666666666666666,
             "#ed7953"
            ],
            [
             0.7777777777777778,
             "#fb9f3a"
            ],
            [
             0.8888888888888888,
             "#fdca26"
            ],
            [
             1,
             "#f0f921"
            ]
           ]
          },
          "colorway": [
           "#636efa",
           "#EF553B",
           "#00cc96",
           "#ab63fa",
           "#FFA15A",
           "#19d3f3",
           "#FF6692",
           "#B6E880",
           "#FF97FF",
           "#FECB52"
          ],
          "font": {
           "color": "#2a3f5f"
          },
          "geo": {
           "bgcolor": "white",
           "lakecolor": "white",
           "landcolor": "#E5ECF6",
           "showlakes": true,
           "showland": true,
           "subunitcolor": "white"
          },
          "hoverlabel": {
           "align": "left"
          },
          "hovermode": "closest",
          "mapbox": {
           "style": "light"
          },
          "paper_bgcolor": "white",
          "plot_bgcolor": "#E5ECF6",
          "polar": {
           "angularaxis": {
            "gridcolor": "white",
            "linecolor": "white",
            "ticks": ""
           },
           "bgcolor": "#E5ECF6",
           "radialaxis": {
            "gridcolor": "white",
            "linecolor": "white",
            "ticks": ""
           }
          },
          "scene": {
           "xaxis": {
            "backgroundcolor": "#E5ECF6",
            "gridcolor": "white",
            "gridwidth": 2,
            "linecolor": "white",
            "showbackground": true,
            "ticks": "",
            "zerolinecolor": "white"
           },
           "yaxis": {
            "backgroundcolor": "#E5ECF6",
            "gridcolor": "white",
            "gridwidth": 2,
            "linecolor": "white",
            "showbackground": true,
            "ticks": "",
            "zerolinecolor": "white"
           },
           "zaxis": {
            "backgroundcolor": "#E5ECF6",
            "gridcolor": "white",
            "gridwidth": 2,
            "linecolor": "white",
            "showbackground": true,
            "ticks": "",
            "zerolinecolor": "white"
           }
          },
          "shapedefaults": {
           "line": {
            "color": "#2a3f5f"
           }
          },
          "ternary": {
           "aaxis": {
            "gridcolor": "white",
            "linecolor": "white",
            "ticks": ""
           },
           "baxis": {
            "gridcolor": "white",
            "linecolor": "white",
            "ticks": ""
           },
           "bgcolor": "#E5ECF6",
           "caxis": {
            "gridcolor": "white",
            "linecolor": "white",
            "ticks": ""
           }
          },
          "title": {
           "x": 0.05
          },
          "xaxis": {
           "automargin": true,
           "gridcolor": "white",
           "linecolor": "white",
           "ticks": "",
           "title": {
            "standoff": 15
           },
           "zerolinecolor": "white",
           "zerolinewidth": 2
          },
          "yaxis": {
           "automargin": true,
           "gridcolor": "white",
           "linecolor": "white",
           "ticks": "",
           "title": {
            "standoff": 15
           },
           "zerolinecolor": "white",
           "zerolinewidth": 2
          }
         }
        },
        "title": {
         "text": "IIT BOMBAY CAMPUS COVID CASES"
        }
       }
      },
      "text/html": [
       "<div>                            <div id=\"f32b9836-2005-43a2-869d-ae7e8512be71\" class=\"plotly-graph-div\" style=\"height:525px; width:100%;\"></div>            <script type=\"text/javascript\">                require([\"plotly\"], function(Plotly) {                    window.PLOTLYENV=window.PLOTLYENV || {};                                    if (document.getElementById(\"f32b9836-2005-43a2-869d-ae7e8512be71\")) {                    Plotly.newPlot(                        \"f32b9836-2005-43a2-869d-ae7e8512be71\",                        [{\"coloraxis\":\"coloraxis\",\"customdata\":[[5],[12],[2],[20],[13],[3],[30],[13],[2],[18],[14],[7],[1],[25],[40],[18],[11],[7],[55],[5],[10],[12],[19],[9],[32],[44],[8],[1],[90],[21],[14],[33],[5]],\"geojson\":{\"features\":[{\"geometry\":{\"coordinates\":[[[72.91074514389038,19.136086599999516],[72.91018724441528,19.134282384131495],[72.91364192962646,19.1331065923952],[72.91465044021606,19.135964968088775],[72.91074514389038,19.136086599999516]]],\"type\":\"Polygon\"},\"id\":1,\"properties\":{\"area_code\":1,\"name\":\"gymkhana\"},\"type\":\"Feature\"},{\"geometry\":{\"coordinates\":[[[72.91382431983948,19.13108441375334],[72.91419446468353,19.13044582588064],[72.91478991508484,19.130455962215358],[72.91474699974059,19.13108441375334],[72.91382431983948,19.13108441375334]]],\"type\":\"Polygon\"},\"id\":2,\"properties\":{\"area_code\":2,\"name\":\"hospital\"},\"type\":\"Feature\"},{\"geometry\":{\"coordinates\":[[[72.91520297527313,19.129599439736836],[72.91520297527313,19.128210748884424],[72.91638314723969,19.128296908875534],[72.91627585887909,19.1296095761235],[72.91520297527313,19.129599439736836]]],\"type\":\"Polygon\"},\"id\":3,\"properties\":{\"area_code\":3,\"name\":\"hostel10\"},\"type\":\"Feature\"},{\"geometry\":{\"coordinates\":[[[72.91473627090454,19.134297588280162],[72.91478455066681,19.13362353634492],[72.9155570268631,19.133694489309757],[72.91551411151886,19.13432292852482],[72.91473627090454,19.134297588280162]]],\"type\":\"Polygon\"},\"id\":4,\"properties\":{\"area_code\":4,\"name\":\"central library\"},\"type\":\"Feature\"},{\"geometry\":{\"coordinates\":[[[72.90393769741058,19.135518983649504],[72.9046618938446,19.13500711366077],[72.90491938591003,19.13508820208159],[72.90504276752472,19.1352301067222],[72.90549337863922,19.135392283305013],[72.90549337863922,19.13616768789024],[72.90430784225464,19.135899084099716],[72.90393769741058,19.135518983649504]]],\"type\":\"Polygon\"},\"id\":5,\"properties\":{\"area_code\":5,\"name\":\"hostel12\"},\"type\":\"Feature\"},{\"geometry\":{\"coordinates\":[[[72.9057240486145,19.13508820208159],[72.90571331977844,19.134865208828536],[72.90556311607361,19.134621943118134],[72.90553092956543,19.134540854468362],[72.90609955787659,19.134069525903254],[72.90650188922882,19.134566194675692],[72.90650725364684,19.135128746277072],[72.9057240486145,19.13508820208159]]],\"type\":\"Polygon\"},\"id\":6,\"properties\":{\"area_code\":6,\"name\":\"hostel14\"},\"type\":\"Feature\"},{\"geometry\":{\"coordinates\":[[[72.90476381778717,19.134784120298214],[72.90429711341858,19.134211431419242],[72.90443122386932,19.133851599337724],[72.90506958961487,19.133506970693638],[72.9053807258606,19.13425704388062],[72.90497839450836,19.134474969911118],[72.90489792823792,19.134743576018128],[72.90476381778717,19.134784120298214]]],\"type\":\"Polygon\"},\"id\":7,\"properties\":{\"area_code\":7,\"name\":\"hostel13\"},\"type\":\"Feature\"},{\"geometry\":{\"coordinates\":[[[72.90625512599945,19.13571156798696],[72.90753185749054,19.135270650882838],[72.90772497653961,19.135802792068414],[72.90741384029387,19.13590415209979],[72.90749430656432,19.1363349315391],[72.90677547454834,19.136492039054925],[72.9066413640976,19.136056192030235],[72.90637850761414,19.136127143949853],[72.90625512599945,19.13571156798696]]],\"type\":\"Polygon\"},\"id\":8,\"properties\":{\"area_code\":8,\"name\":\"hostel6\"},\"type\":\"Feature\"},{\"geometry\":{\"coordinates\":[[[72.90761232376099,19.13495136534837],[72.90737628936768,19.135027385769703],[72.90724754333496,19.134662487428088],[72.90757477283476,19.13450537817157],[72.90754795074463,19.134023913390074],[72.90789127349854,19.133664080899994],[72.90817022323608,19.133795850635227],[72.90834188461304,19.1345256503421],[72.90761232376099,19.13495136534837]]],\"type\":\"Polygon\"},\"id\":9,\"properties\":{\"area_code\":9,\"name\":\"hostel7\"},\"type\":\"Feature\"},{\"geometry\":{\"coordinates\":[[[72.90786981582642,19.13557473177029],[72.90777862071991,19.1352301067222],[72.9082989692688,19.13499190957744],[72.90866911411285,19.134996977605365],[72.9089105129242,19.135934560097088],[72.90808439254761,19.136193027847934],[72.90786981582642,19.13557473177029]]],\"type\":\"Polygon\"},\"id\":10,\"properties\":{\"area_code\":10,\"name\":\"hostel9\"},\"type\":\"Feature\"},{\"geometry\":{\"coordinates\":[[[72.90896952152252,19.136228503782153],[72.90897488594055,19.13615755190608],[72.90951132774353,19.13601564806248],[72.90968298912048,19.13710019577144],[72.90913581848145,19.137176215203503],[72.90896952152252,19.136228503782153]]],\"type\":\"Polygon\"},\"id\":11,\"properties\":{\"area_code\":11,\"name\":\"hostel18\"},\"type\":\"Feature\"},{\"geometry\":{\"coordinates\":[[[72.90964543819427,19.136132211942943],[72.90998339653015,19.135959900090544],[72.91054666042328,19.136071396015573],[72.91062712669373,19.137313050093017],[72.90981709957123,19.137358661697665],[72.90964543819427,19.136132211942943]]],\"type\":\"Polygon\"},\"id\":12,\"properties\":{\"area_code\":12,\"name\":\"hostel4\"},\"type\":\"Feature\"},{\"geometry\":{\"coordinates\":[[[72.90944159030914,19.135747044024622],[72.90904998779297,19.13480439243453],[72.91000485420227,19.13446990186715],[72.91041791439056,19.13545816749629],[72.90944159030914,19.135747044024622]]],\"type\":\"Polygon\"},\"id\":13,\"properties\":{\"area_code\":13,\"name\":\"hostel5\"},\"type\":\"Feature\"},{\"geometry\":{\"coordinates\":[[[72.91109919548035,19.13730798213617],[72.91081488132477,19.13615755190608],[72.91198432445526,19.136096735988037],[72.91210770606993,19.137247166641853],[72.91109919548035,19.13730798213617]]],\"type\":\"Polygon\"},\"id\":14,\"properties\":{\"area_code\":14,\"name\":\"hostel3\"},\"type\":\"Feature\"},{\"geometry\":{\"coordinates\":[[[72.91230082511902,19.137536040040366],[72.91217744350433,19.137530972090367],[72.91209697723389,19.13653765088637],[72.91245639324188,19.136096735988037],[72.91311621665955,19.136127143949853],[72.91318595409393,19.137454952821628],[72.91230082511902,19.137536040040366]]],\"type\":\"Polygon\"},\"id\":15,\"properties\":{\"area_code\":15,\"name\":\"hostel2\"},\"type\":\"Feature\"},{\"geometry\":{\"coordinates\":[[[72.91349172592163,19.13718635112513],[72.91336834430695,19.136056192030235],[72.91446268558502,19.136056192030235],[72.91439294815063,19.137272506433877],[72.91349172592163,19.13718635112513]]],\"type\":\"Polygon\"},\"id\":16,\"properties\":{\"area_code\":16,\"name\":\"hostel1\"},\"type\":\"Feature\"},{\"geometry\":{\"coordinates\":[[[72.90927529335022,19.124551441899612],[72.90973126888274,19.1241611786158],[72.91001558303833,19.124571715291765],[72.90960252285004,19.124901157565642],[72.90927529335022,19.124551441899612]]],\"type\":\"Polygon\"},\"id\":17,\"properties\":{\"area_code\":17,\"name\":\"devi temple\"},\"type\":\"Feature\"},{\"geometry\":{\"coordinates\":[[[72.9123330116272,19.125195120886232],[72.91175365447998,19.125195120886232],[72.91100263595581,19.124728833996627],[72.91178584098814,19.124232135645055],[72.91252076625824,19.124374049612147],[72.9123330116272,19.125195120886232]]],\"type\":\"Polygon\"},\"id\":18,\"properties\":{\"area_code\":18,\"name\":\"lakeside road\"},\"type\":\"Feature\"},{\"geometry\":{\"coordinates\":[[[72.91603982448578,19.126142895616965],[72.91587889194489,19.125565108460133],[72.91635632514954,19.125174847570566],[72.91664063930511,19.12505827595722],[72.91684448719025,19.12546374208393],[72.91662991046906,19.12591482198065],[72.91603982448578,19.126142895616965]]],\"type\":\"Polygon\"},\"id\":19,\"properties\":{\"area_code\":19,\"name\":\"main gate\"},\"type\":\"Feature\"},{\"geometry\":{\"coordinates\":[[[72.91468262672424,19.13248828476161],[72.91330933570862,19.13184463419219],[72.91380822658539,19.13117057224555],[72.91503131389618,19.13157602337021],[72.91468262672424,19.13248828476161]]],\"type\":\"Polygon\"},\"id\":20,\"properties\":{\"area_code\":20,\"name\":\"convocation hall\"},\"type\":\"Feature\"},{\"geometry\":{\"coordinates\":[[[72.91282117366791,19.13325356682004],[72.91241884231567,19.13265553213679],[72.91300356388092,19.131885179183982],[72.9141354560852,19.13229062855441],[72.91428565979004,19.13274675790641],[72.91333079338074,19.132827847437106],[72.91282117366791,19.13325356682004]]],\"type\":\"Polygon\"},\"id\":21,\"properties\":{\"area_code\":21,\"name\":\"tennis court\"},\"type\":\"Feature\"},{\"geometry\":{\"coordinates\":[[[72.91728973388672,19.12952848501279],[72.9177725315094,19.12844895580905],[72.91799783706665,19.128555388579233],[72.91851818561554,19.12843375112199],[72.9187273979187,19.128378000590825],[72.91899561882018,19.128464160494698],[72.91907608509062,19.12866688950303],[72.91895806789398,19.129574098767456],[72.91728973388672,19.12952848501279]]],\"type\":\"Polygon\"},\"id\":22,\"properties\":{\"area_code\":22,\"name\":\"kendriya vidyalaya\"},\"type\":\"Feature\"},{\"geometry\":{\"coordinates\":[[[72.9146021604538,19.133506970693638],[72.91535317897797,19.132037222814542],[72.91586816310883,19.132579510623614],[72.91576087474823,19.133562719493636],[72.9146021604538,19.133506970693638]]],\"type\":\"Polygon\"},\"id\":23,\"properties\":{\"area_code\":23,\"name\":\"main building\"},\"type\":\"Feature\"},{\"geometry\":{\"coordinates\":[[[72.91562676429749,19.133836395148002],[72.91566967964172,19.133603264063648],[72.91689276695251,19.13363367248462],[72.91719317436218,19.130045440161535],[72.91740775108337,19.13010625830795],[72.91734337806702,19.133593127922076],[72.91860938072205,19.133603264063648],[72.91854500770569,19.13407966201559],[72.91562676429749,19.133836395148002]]],\"type\":\"Polygon\"},\"id\":24,\"properties\":{\"area_code\":24,\"name\":\"infinity corridoor\"},\"type\":\"Feature\"},{\"geometry\":{\"coordinates\":[[[72.91850209236145,19.132042290933136],[72.9181158542633,19.131809157316223],[72.91803002357481,19.131332752814856],[72.91820168495178,19.130988118914736],[72.91836261749268,19.130704302221755],[72.91865229606628,19.130694165902277],[72.91896343231201,19.130765120125595],[72.91913509368896,19.131190844825415],[72.91911363601685,19.131525342034056],[72.91894197463989,19.13176861230577],[72.91879177093506,19.131971337258474],[72.91850209236145,19.132042290933136]]],\"type\":\"Polygon\"},\"id\":25,\"properties\":{\"area_code\":25,\"name\":\"aerospace department\"},\"type\":\"Feature\"},{\"geometry\":{\"coordinates\":[[[72.9167640209198,19.133522174913676],[72.91640996932983,19.133582991779882],[72.91595935821533,19.133522174913676],[72.9159164428711,19.133076183877172],[72.91595935821533,19.13273155361497],[72.91640996932983,19.132761962196447],[72.91673183441162,19.132873460280628],[72.9168176651001,19.13318768174921],[72.9167640209198,19.133522174913676]]],\"type\":\"Polygon\"},\"id\":26,\"properties\":{\"area_code\":26,\"name\":\"mech\"},\"type\":\"Feature\"},{\"geometry\":{\"coordinates\":[[[72.91607737541199,19.137039380200584],[72.91557312011719,19.136187959856702],[72.91624903678894,19.135660887919936],[72.9168713092804,19.136228503782153],[72.9166567325592,19.136725166061005],[72.91607737541199,19.137039380200584]]],\"type\":\"Polygon\"},\"id\":27,\"properties\":{\"area_code\":27,\"name\":\"csre building\"},\"type\":\"Feature\"},{\"geometry\":{\"coordinates\":[[[72.91715025901794,19.138275959071702],[72.91702151298522,19.137819844992347],[72.9177188873291,19.137242098682986],[72.91839480400085,19.13759685542829],[72.91834115982056,19.13832663833608],[72.91770815849303,19.13861044192907],[72.91715025901794,19.138275959071702]]],\"type\":\"Polygon\"},\"id\":28,\"properties\":{\"area_code\":28,\"name\":\"vidya nivas\"},\"type\":\"Feature\"},{\"geometry\":{\"coordinates\":[[[72.91828751564026,19.127906654438966],[72.91669964790343,19.127987746345816],[72.91618466377258,19.126781500123673],[72.91650652885437,19.12645712988906],[72.91707515716553,19.126234124983345],[72.9177188873291,19.126558495655793],[72.91820168495178,19.127085596640235],[72.91828751564026,19.127906654438966]]],\"type\":\"Polygon\"},\"id\":29,\"properties\":{\"area_code\":29,\"name\":\"campus school\"},\"type\":\"Feature\"},{\"geometry\":{\"coordinates\":[[[72.91500449180603,19.126649724792674],[72.91467189788818,19.12668013449377],[72.9142963886261,19.126467266468545],[72.91403889656067,19.126234124983345],[72.91410326957703,19.125980709952373],[72.9141891002655,19.125514425279807],[72.9143500328064,19.125433332158938],[72.91471481323242,19.125271145797807],[72.91487574577332,19.125321829052762],[72.91521906852722,19.12585907059944],[72.91521906852722,19.126142895616965],[72.91518688201904,19.126396310399166],[72.91500449180603,19.126649724792674]]],\"type\":\"Polygon\"},\"id\":30,\"properties\":{\"area_code\":30,\"name\":\"white house\"},\"type\":\"Feature\"},{\"geometry\":{\"coordinates\":[[[72.91896343231201,19.140029452576155],[72.91892051696777,19.140526103421127],[72.91874885559082,19.140911260190602],[72.91798710823059,19.141316687398163],[72.91684985160828,19.140434881949382],[72.91747212409973,19.13987741630451],[72.91813731193542,19.139684836826078],[72.91896343231201,19.140029452576155]]],\"type\":\"Polygon\"},\"id\":31,\"properties\":{\"area_code\":31,\"name\":\"sameer hill\"},\"type\":\"Feature\"},{\"geometry\":{\"coordinates\":[[[72.91475236415863,19.138134057048713],[72.91461825370789,19.138316502484436],[72.91418373584747,19.138362113811866],[72.91369557380676,19.138417860972737],[72.91345417499542,19.1379718831588],[72.91350245475769,19.137485360533326],[72.91380286216736,19.137287710307223],[72.91425347328186,19.137328253962636],[72.91456460952757,19.13759685542829],[72.91475236415863,19.138134057048713]]],\"type\":\"Polygon\"},\"id\":32,\"properties\":{\"area_code\":32,\"name\":\"hostel15\"},\"type\":\"Feature\"},{\"geometry\":{\"coordinates\":[[[72.91340053081512,19.13804790218953],[72.9134863615036,19.138240483577377],[72.91334688663483,19.138524287318482],[72.91270315647125,19.138417860972737],[72.91235983371735,19.13803776632079],[72.9125314950943,19.13758671953185],[72.913379073143,19.13749042848474],[72.91340053081512,19.13804790218953]]],\"type\":\"Polygon\"},\"id\":33,\"properties\":{\"area_code\":33,\"name\":\"hostel16\"},\"type\":\"Feature\"}],\"type\":\"FeatureCollection\"},\"hovertemplate\":\"<b>%{hovertext}</b><br><br>id=%{location}<br>cases=%{z}<extra></extra>\",\"hovertext\":[\"gymkhana\",\"hospital\",\"hostel10\",\"central library\",\"hostel12\",\"hostel14\",\"hostel13\",\"hostel6\",\"hostel7\",\"hostel9\",\"hostel18\",\"hostel4\",\"hostel5\",\"hostel3\",\"hostel2\",\"hostel1\",\"devi temple\",\"lakeside road\",\"main gate\",\"convocation hall\",\"tennis court\",\"kendriya vidyalaya\",\"main building\",\"infinity corridoor\",\"aerospace department\",\"mech\",\"csre building\",\"vidya nivas\",\"campus school\",\"white house\",\"sameer hill\",\"hostel15\",\"hostel16\"],\"locations\":[1,2,3,4,5,6,7,8,9,10,11,12,13,14,15,16,17,18,19,20,21,22,23,24,25,26,27,28,29,30,31,32,33],\"marker\":{\"opacity\":0.5},\"name\":\"\",\"subplot\":\"mapbox\",\"type\":\"choroplethmapbox\",\"z\":[5,12,2,20,13,3,30,13,2,18,14,7,1,25,40,18,11,7,55,5,10,12,19,9,32,44,8,1,90,21,14,33,5]}],                        {\"coloraxis\":{\"colorbar\":{\"title\":{\"text\":\"cases\"}},\"colorscale\":[[0.0,\"#0d0887\"],[0.1111111111111111,\"#46039f\"],[0.2222222222222222,\"#7201a8\"],[0.3333333333333333,\"#9c179e\"],[0.4444444444444444,\"#bd3786\"],[0.5555555555555556,\"#d8576b\"],[0.6666666666666666,\"#ed7953\"],[0.7777777777777778,\"#fb9f3a\"],[0.8888888888888888,\"#fdca26\"],[1.0,\"#f0f921\"]]},\"legend\":{\"tracegroupgap\":0},\"mapbox\":{\"center\":{\"lat\":19.132,\"lon\":72.9133},\"domain\":{\"x\":[0.0,1.0],\"y\":[0.0,1.0]},\"style\":\"open-street-map\",\"zoom\":13.8},\"template\":{\"data\":{\"bar\":[{\"error_x\":{\"color\":\"#2a3f5f\"},\"error_y\":{\"color\":\"#2a3f5f\"},\"marker\":{\"line\":{\"color\":\"#E5ECF6\",\"width\":0.5},\"pattern\":{\"fillmode\":\"overlay\",\"size\":10,\"solidity\":0.2}},\"type\":\"bar\"}],\"barpolar\":[{\"marker\":{\"line\":{\"color\":\"#E5ECF6\",\"width\":0.5},\"pattern\":{\"fillmode\":\"overlay\",\"size\":10,\"solidity\":0.2}},\"type\":\"barpolar\"}],\"carpet\":[{\"aaxis\":{\"endlinecolor\":\"#2a3f5f\",\"gridcolor\":\"white\",\"linecolor\":\"white\",\"minorgridcolor\":\"white\",\"startlinecolor\":\"#2a3f5f\"},\"baxis\":{\"endlinecolor\":\"#2a3f5f\",\"gridcolor\":\"white\",\"linecolor\":\"white\",\"minorgridcolor\":\"white\",\"startlinecolor\":\"#2a3f5f\"},\"type\":\"carpet\"}],\"choropleth\":[{\"colorbar\":{\"outlinewidth\":0,\"ticks\":\"\"},\"type\":\"choropleth\"}],\"contour\":[{\"colorbar\":{\"outlinewidth\":0,\"ticks\":\"\"},\"colorscale\":[[0.0,\"#0d0887\"],[0.1111111111111111,\"#46039f\"],[0.2222222222222222,\"#7201a8\"],[0.3333333333333333,\"#9c179e\"],[0.4444444444444444,\"#bd3786\"],[0.5555555555555556,\"#d8576b\"],[0.6666666666666666,\"#ed7953\"],[0.7777777777777778,\"#fb9f3a\"],[0.8888888888888888,\"#fdca26\"],[1.0,\"#f0f921\"]],\"type\":\"contour\"}],\"contourcarpet\":[{\"colorbar\":{\"outlinewidth\":0,\"ticks\":\"\"},\"type\":\"contourcarpet\"}],\"heatmap\":[{\"colorbar\":{\"outlinewidth\":0,\"ticks\":\"\"},\"colorscale\":[[0.0,\"#0d0887\"],[0.1111111111111111,\"#46039f\"],[0.2222222222222222,\"#7201a8\"],[0.3333333333333333,\"#9c179e\"],[0.4444444444444444,\"#bd3786\"],[0.5555555555555556,\"#d8576b\"],[0.6666666666666666,\"#ed7953\"],[0.7777777777777778,\"#fb9f3a\"],[0.8888888888888888,\"#fdca26\"],[1.0,\"#f0f921\"]],\"type\":\"heatmap\"}],\"heatmapgl\":[{\"colorbar\":{\"outlinewidth\":0,\"ticks\":\"\"},\"colorscale\":[[0.0,\"#0d0887\"],[0.1111111111111111,\"#46039f\"],[0.2222222222222222,\"#7201a8\"],[0.3333333333333333,\"#9c179e\"],[0.4444444444444444,\"#bd3786\"],[0.5555555555555556,\"#d8576b\"],[0.6666666666666666,\"#ed7953\"],[0.7777777777777778,\"#fb9f3a\"],[0.8888888888888888,\"#fdca26\"],[1.0,\"#f0f921\"]],\"type\":\"heatmapgl\"}],\"histogram\":[{\"marker\":{\"pattern\":{\"fillmode\":\"overlay\",\"size\":10,\"solidity\":0.2}},\"type\":\"histogram\"}],\"histogram2d\":[{\"colorbar\":{\"outlinewidth\":0,\"ticks\":\"\"},\"colorscale\":[[0.0,\"#0d0887\"],[0.1111111111111111,\"#46039f\"],[0.2222222222222222,\"#7201a8\"],[0.3333333333333333,\"#9c179e\"],[0.4444444444444444,\"#bd3786\"],[0.5555555555555556,\"#d8576b\"],[0.6666666666666666,\"#ed7953\"],[0.7777777777777778,\"#fb9f3a\"],[0.8888888888888888,\"#fdca26\"],[1.0,\"#f0f921\"]],\"type\":\"histogram2d\"}],\"histogram2dcontour\":[{\"colorbar\":{\"outlinewidth\":0,\"ticks\":\"\"},\"colorscale\":[[0.0,\"#0d0887\"],[0.1111111111111111,\"#46039f\"],[0.2222222222222222,\"#7201a8\"],[0.3333333333333333,\"#9c179e\"],[0.4444444444444444,\"#bd3786\"],[0.5555555555555556,\"#d8576b\"],[0.6666666666666666,\"#ed7953\"],[0.7777777777777778,\"#fb9f3a\"],[0.8888888888888888,\"#fdca26\"],[1.0,\"#f0f921\"]],\"type\":\"histogram2dcontour\"}],\"mesh3d\":[{\"colorbar\":{\"outlinewidth\":0,\"ticks\":\"\"},\"type\":\"mesh3d\"}],\"parcoords\":[{\"line\":{\"colorbar\":{\"outlinewidth\":0,\"ticks\":\"\"}},\"type\":\"parcoords\"}],\"pie\":[{\"automargin\":true,\"type\":\"pie\"}],\"scatter\":[{\"marker\":{\"colorbar\":{\"outlinewidth\":0,\"ticks\":\"\"}},\"type\":\"scatter\"}],\"scatter3d\":[{\"line\":{\"colorbar\":{\"outlinewidth\":0,\"ticks\":\"\"}},\"marker\":{\"colorbar\":{\"outlinewidth\":0,\"ticks\":\"\"}},\"type\":\"scatter3d\"}],\"scattercarpet\":[{\"marker\":{\"colorbar\":{\"outlinewidth\":0,\"ticks\":\"\"}},\"type\":\"scattercarpet\"}],\"scattergeo\":[{\"marker\":{\"colorbar\":{\"outlinewidth\":0,\"ticks\":\"\"}},\"type\":\"scattergeo\"}],\"scattergl\":[{\"marker\":{\"colorbar\":{\"outlinewidth\":0,\"ticks\":\"\"}},\"type\":\"scattergl\"}],\"scattermapbox\":[{\"marker\":{\"colorbar\":{\"outlinewidth\":0,\"ticks\":\"\"}},\"type\":\"scattermapbox\"}],\"scatterpolar\":[{\"marker\":{\"colorbar\":{\"outlinewidth\":0,\"ticks\":\"\"}},\"type\":\"scatterpolar\"}],\"scatterpolargl\":[{\"marker\":{\"colorbar\":{\"outlinewidth\":0,\"ticks\":\"\"}},\"type\":\"scatterpolargl\"}],\"scatterternary\":[{\"marker\":{\"colorbar\":{\"outlinewidth\":0,\"ticks\":\"\"}},\"type\":\"scatterternary\"}],\"surface\":[{\"colorbar\":{\"outlinewidth\":0,\"ticks\":\"\"},\"colorscale\":[[0.0,\"#0d0887\"],[0.1111111111111111,\"#46039f\"],[0.2222222222222222,\"#7201a8\"],[0.3333333333333333,\"#9c179e\"],[0.4444444444444444,\"#bd3786\"],[0.5555555555555556,\"#d8576b\"],[0.6666666666666666,\"#ed7953\"],[0.7777777777777778,\"#fb9f3a\"],[0.8888888888888888,\"#fdca26\"],[1.0,\"#f0f921\"]],\"type\":\"surface\"}],\"table\":[{\"cells\":{\"fill\":{\"color\":\"#EBF0F8\"},\"line\":{\"color\":\"white\"}},\"header\":{\"fill\":{\"color\":\"#C8D4E3\"},\"line\":{\"color\":\"white\"}},\"type\":\"table\"}]},\"layout\":{\"annotationdefaults\":{\"arrowcolor\":\"#2a3f5f\",\"arrowhead\":0,\"arrowwidth\":1},\"autotypenumbers\":\"strict\",\"coloraxis\":{\"colorbar\":{\"outlinewidth\":0,\"ticks\":\"\"}},\"colorscale\":{\"diverging\":[[0,\"#8e0152\"],[0.1,\"#c51b7d\"],[0.2,\"#de77ae\"],[0.3,\"#f1b6da\"],[0.4,\"#fde0ef\"],[0.5,\"#f7f7f7\"],[0.6,\"#e6f5d0\"],[0.7,\"#b8e186\"],[0.8,\"#7fbc41\"],[0.9,\"#4d9221\"],[1,\"#276419\"]],\"sequential\":[[0.0,\"#0d0887\"],[0.1111111111111111,\"#46039f\"],[0.2222222222222222,\"#7201a8\"],[0.3333333333333333,\"#9c179e\"],[0.4444444444444444,\"#bd3786\"],[0.5555555555555556,\"#d8576b\"],[0.6666666666666666,\"#ed7953\"],[0.7777777777777778,\"#fb9f3a\"],[0.8888888888888888,\"#fdca26\"],[1.0,\"#f0f921\"]],\"sequentialminus\":[[0.0,\"#0d0887\"],[0.1111111111111111,\"#46039f\"],[0.2222222222222222,\"#7201a8\"],[0.3333333333333333,\"#9c179e\"],[0.4444444444444444,\"#bd3786\"],[0.5555555555555556,\"#d8576b\"],[0.6666666666666666,\"#ed7953\"],[0.7777777777777778,\"#fb9f3a\"],[0.8888888888888888,\"#fdca26\"],[1.0,\"#f0f921\"]]},\"colorway\":[\"#636efa\",\"#EF553B\",\"#00cc96\",\"#ab63fa\",\"#FFA15A\",\"#19d3f3\",\"#FF6692\",\"#B6E880\",\"#FF97FF\",\"#FECB52\"],\"font\":{\"color\":\"#2a3f5f\"},\"geo\":{\"bgcolor\":\"white\",\"lakecolor\":\"white\",\"landcolor\":\"#E5ECF6\",\"showlakes\":true,\"showland\":true,\"subunitcolor\":\"white\"},\"hoverlabel\":{\"align\":\"left\"},\"hovermode\":\"closest\",\"mapbox\":{\"style\":\"light\"},\"paper_bgcolor\":\"white\",\"plot_bgcolor\":\"#E5ECF6\",\"polar\":{\"angularaxis\":{\"gridcolor\":\"white\",\"linecolor\":\"white\",\"ticks\":\"\"},\"bgcolor\":\"#E5ECF6\",\"radialaxis\":{\"gridcolor\":\"white\",\"linecolor\":\"white\",\"ticks\":\"\"}},\"scene\":{\"xaxis\":{\"backgroundcolor\":\"#E5ECF6\",\"gridcolor\":\"white\",\"gridwidth\":2,\"linecolor\":\"white\",\"showbackground\":true,\"ticks\":\"\",\"zerolinecolor\":\"white\"},\"yaxis\":{\"backgroundcolor\":\"#E5ECF6\",\"gridcolor\":\"white\",\"gridwidth\":2,\"linecolor\":\"white\",\"showbackground\":true,\"ticks\":\"\",\"zerolinecolor\":\"white\"},\"zaxis\":{\"backgroundcolor\":\"#E5ECF6\",\"gridcolor\":\"white\",\"gridwidth\":2,\"linecolor\":\"white\",\"showbackground\":true,\"ticks\":\"\",\"zerolinecolor\":\"white\"}},\"shapedefaults\":{\"line\":{\"color\":\"#2a3f5f\"}},\"ternary\":{\"aaxis\":{\"gridcolor\":\"white\",\"linecolor\":\"white\",\"ticks\":\"\"},\"baxis\":{\"gridcolor\":\"white\",\"linecolor\":\"white\",\"ticks\":\"\"},\"bgcolor\":\"#E5ECF6\",\"caxis\":{\"gridcolor\":\"white\",\"linecolor\":\"white\",\"ticks\":\"\"}},\"title\":{\"x\":0.05},\"xaxis\":{\"automargin\":true,\"gridcolor\":\"white\",\"linecolor\":\"white\",\"ticks\":\"\",\"title\":{\"standoff\":15},\"zerolinecolor\":\"white\",\"zerolinewidth\":2},\"yaxis\":{\"automargin\":true,\"gridcolor\":\"white\",\"linecolor\":\"white\",\"ticks\":\"\",\"title\":{\"standoff\":15},\"zerolinecolor\":\"white\",\"zerolinewidth\":2}}},\"title\":{\"text\":\"IIT BOMBAY CAMPUS COVID CASES\"}},                        {\"responsive\": true}                    ).then(function(){\n",
       "                            \n",
       "var gd = document.getElementById('f32b9836-2005-43a2-869d-ae7e8512be71');\n",
       "var x = new MutationObserver(function (mutations, observer) {{\n",
       "        var display = window.getComputedStyle(gd).display;\n",
       "        if (!display || display === 'none') {{\n",
       "            console.log([gd, 'removed!']);\n",
       "            Plotly.purge(gd);\n",
       "            observer.disconnect();\n",
       "        }}\n",
       "}});\n",
       "\n",
       "// Listen for the removal of the full notebook cells\n",
       "var notebookContainer = gd.closest('#notebook-container');\n",
       "if (notebookContainer) {{\n",
       "    x.observe(notebookContainer, {childList: true});\n",
       "}}\n",
       "\n",
       "// Listen for the clearing of the current output cell\n",
       "var outputEl = gd.closest('.output');\n",
       "if (outputEl) {{\n",
       "    x.observe(outputEl, {childList: true});\n",
       "}}\n",
       "\n",
       "                        })                };                });            </script>        </div>"
      ]
     },
     "metadata": {},
     "output_type": "display_data"
    }
   ],
   "source": [
    "fig = px.choropleth_mapbox(\n",
    "    df,\n",
    "    locations=\"id\",\n",
    "    geojson=campus_zones,\n",
    "    color=\"cases\",\n",
    "    hover_name=\"name\",\n",
    "    hover_data=[\"cases\"],\n",
    "    title=\"IIT BOMBAY CAMPUS COVID CASES\",\n",
    "    mapbox_style=\"open-street-map\",\n",
    "    center={\"lat\": 19.132, \"lon\": 72.9133},\n",
    "    zoom=13.8,\n",
    "    opacity=0.5,\n",
    "    #color_continuous_scale=px.colors.diverging.BrBG,\n",
    "    #color_continuous_midpoint=5,\n",
    ")\n",
    "fig.show()"
   ]
  },
  {
   "cell_type": "code",
   "execution_count": null,
   "id": "82493a59",
   "metadata": {},
   "outputs": [],
   "source": []
  }
 ],
 "metadata": {
  "kernelspec": {
   "display_name": "Python 3 (ipykernel)",
   "language": "python",
   "name": "python3"
  },
  "language_info": {
   "codemirror_mode": {
    "name": "ipython",
    "version": 3
   },
   "file_extension": ".py",
   "mimetype": "text/x-python",
   "name": "python",
   "nbconvert_exporter": "python",
   "pygments_lexer": "ipython3",
   "version": "3.9.6"
  }
 },
 "nbformat": 4,
 "nbformat_minor": 5
}
